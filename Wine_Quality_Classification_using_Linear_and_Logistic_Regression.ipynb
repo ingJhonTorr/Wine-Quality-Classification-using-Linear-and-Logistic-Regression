{
  "cells": [
    {
      "cell_type": "markdown",
      "metadata": {
        "id": "yHY8EgcXLf5V"
      },
      "source": [
        "# Wine Quality Classification using Linear and Logistic Regression\n",
        "\n",
        "## Step 1: Environment Setup\n",
        "\n",
        "Make sure you have the required libraries installed, including TensorFlow, Matplotlib, Seaborn, and scikit-learn."
      ]
    },
    {
      "cell_type": "code",
      "execution_count": 1,
      "metadata": {
        "id": "kHZ3wh74LZKR"
      },
      "outputs": [],
      "source": [
        "import pandas as pd\n",
        "import tensorflow as tf\n",
        "import matplotlib.pyplot as plt\n",
        "import seaborn as sns\n",
        "from sklearn.model_selection import train_test_split\n",
        "from sklearn.metrics import confusion_matrix, classification_report"
      ]
    },
    {
      "cell_type": "markdown",
      "metadata": {
        "id": "tXmUxaCPL-um"
      },
      "source": [
        "## Step 2: Download the Dataset\n",
        "\n",
        "Download the \"Wine Quality\" dataset from the UCI Machine Learning Repository [here](https://archive.ics.uci.edu/ml/machine-learning-databases/wine-quality/winequality-white.csv)."
      ]
    },
    {
      "cell_type": "code",
      "execution_count": 2,
      "metadata": {
        "id": "WxkZ7WdaMG9Q"
      },
      "outputs": [],
      "source": [
        "# Load the dataset\n",
        "url = \"https://archive.ics.uci.edu/ml/machine-learning-databases/wine-quality/winequality-white.csv\"\n",
        "data = pd.read_csv(url, sep=\";\")"
      ]
    },
    {
      "cell_type": "markdown",
      "metadata": {
        "id": "xLwiekv8MT3-"
      },
      "source": [
        "## Step 3: Data Preprocessing\n",
        "\n",
        "The dataset is loaded and processed:\n",
        "- The 'quality' column is transformed into a binary classification task where '1' represents high quality (score >= 7) and '0' represents low quality."
      ]
    },
    {
      "cell_type": "code",
      "execution_count": 3,
      "metadata": {
        "id": "b_XVEv6YMW47"
      },
      "outputs": [],
      "source": [
        "# Data preprocessing\n",
        "data['quality'] = (data['quality'] >= 7).astype(int)"
      ]
    },
    {
      "cell_type": "markdown",
      "metadata": {
        "id": "oEbNvUnkMdtr"
      },
      "source": [
        "## Step 4: Split the Data\n",
        "\n",
        "The dataset is split into training and testing sets (80% training, 20% testing) using scikit-learn's `train_test_split` function."
      ]
    },
    {
      "cell_type": "code",
      "execution_count": 4,
      "metadata": {
        "id": "Njb0nJi7Mm_z"
      },
      "outputs": [],
      "source": [
        "# Split the data into training and testing sets\n",
        "X = data.drop('quality', axis=1).values\n",
        "y = data['quality'].values\n",
        "X_train, X_test, y_train, y_test = train_test_split(X, y, test_size=0.2, random_state=42)"
      ]
    },
    {
      "cell_type": "markdown",
      "metadata": {
        "id": "WPLKkXV6MhuE"
      },
      "source": [
        "## Step 5: Modeling - Linear Regression\n",
        "\n",
        "A linear regression model is created using TensorFlow. The model aims to predict wine quality scores."
      ]
    },
    {
      "cell_type": "code",
      "execution_count": null,
      "metadata": {
        "colab": {
          "base_uri": "https://localhost:8080/"
        },
        "id": "FSc0WqQCMuTT",
        "outputId": "087ce7e1-9025-43fa-9998-0549eb805ff3"
      },
      "outputs": [],
      "source": [
        "# Linear Regression Model\n",
        "model_linear = tf.keras.Sequential([\n",
        "    tf.keras.layers.Input(shape=(11,)),\n",
        "    tf.keras.layers.Dense(1)\n",
        "])\n",
        "\n",
        "model_linear.compile(optimizer='adam', loss='mean_squared_error')\n",
        "model_linear.fit(X_train, y_train, epochs=100, verbose=0)"
      ]
    },
    {
      "cell_type": "markdown",
      "metadata": {
        "id": "M0d7uGQzNghP"
      },
      "source": [
        "## Step 6: Modeling - Logistic Regression\n",
        "\n",
        "A logistic regression model is created using TensorFlow. This model classifies wines as high quality or not."
      ]
    },
    {
      "cell_type": "code",
      "execution_count": null,
      "metadata": {
        "colab": {
          "base_uri": "https://localhost:8080/"
        },
        "id": "4RVXAyJvNoLX",
        "outputId": "9336bdb7-964e-464c-b4ce-42b8334b62b6"
      },
      "outputs": [],
      "source": [
        "# Logistic Regression Model\n",
        "model_logistic = tf.keras.Sequential([\n",
        "    tf.keras.layers.Input(shape=(11,)),\n",
        "    tf.keras.layers.Dense(1, activation='sigmoid')\n",
        "])\n",
        "\n",
        "model_logistic.compile(optimizer='adam', loss='binary_crossentropy', metrics=['accuracy'])\n",
        "model_logistic.fit(X_train, y_train, epochs=100, verbose=0)"
      ]
    },
    {
      "cell_type": "markdown",
      "metadata": {
        "id": "-0qLFJnZOGGC"
      },
      "source": [
        "## Step 7: Model Evaluation\n",
        "\n",
        "Both models are evaluated on the test dataset:\n",
        "- Linear regression is evaluated using mean squared error.\n",
        "- Logistic regression is evaluated using loss and accuracy metrics.\n",
        "- Confusion matrices and classification reports are generated for both models."
      ]
    },
    {
      "cell_type": "code",
      "execution_count": null,
      "metadata": {
        "colab": {
          "base_uri": "https://localhost:8080/"
        },
        "id": "x0rheWtPOFHS",
        "outputId": "a69f6f4b-1a2f-4193-91a9-7ed77e012ecf"
      },
      "outputs": [],
      "source": [
        "# Model Evaluation\n",
        "linear_loss = model_linear.evaluate(X_test, y_test)\n",
        "logistic_loss, logistic_accuracy = model_logistic.evaluate(X_test, y_test)\n",
        "\n",
        "# Predictions\n",
        "linear_predictions = (model_linear.predict(X_test) >= 0.5).astype(int)\n",
        "logistic_predictions = (model_logistic.predict(X_test) >= 0.5).astype(int)"
      ]
    },
    {
      "cell_type": "markdown",
      "metadata": {
        "id": "VIzpUp4hOWfS"
      },
      "source": [
        "## Step 8: Data Visualization\n",
        "\n",
        "Data is visualized using Matplotlib and Seaborn:\n",
        "- Quality distribution is displayed.\n",
        "- Confusion matrices for both models are visualized to show true positives, true negatives, false positives, and false negatives."
      ]
    },
    {
      "cell_type": "code",
      "execution_count": 12,
      "metadata": {
        "colab": {
          "base_uri": "https://localhost:8080/",
          "height": 387
        },
        "id": "WxqUEU7iOXi6",
        "outputId": "96774dd5-dfc2-42a6-be05-e83143e65c77"
      },
      "outputs": [
        {
          "data": {
            "image/png": "[encoded data removed]",
            "text/plain": [
              "<Figure size 1400x500 with 5 Axes>"
            ]
          },
          "metadata": {},
          "output_type": "display_data"
        }
      ],
      "source": [
        "# Data Visualization\n",
        "plt.figure(figsize=(14, 5))\n",
        "plt.subplot(1, 3, 1)\n",
        "plt.title(\"Quality Distribution\")\n",
        "sns.countplot(data['quality'])\n",
        "plt.xlabel(\"Quality\")\n",
        "plt.ylabel(\"Frequency\")\n",
        "\n",
        "plt.subplot(1, 3, 2)\n",
        "plt.title(\"Confusion Matrix - Linear Regression\")\n",
        "sns.heatmap(confusion_matrix(y_test, linear_predictions), annot=True, fmt='d', cmap='Blues')\n",
        "plt.xlabel(\"Predicted\")\n",
        "plt.ylabel(\"True\")\n",
        "\n",
        "plt.subplot(1, 3, 3)\n",
        "plt.title(\"Confusion Matrix - Logistic Regression\")\n",
        "sns.heatmap(confusion_matrix(y_test, logistic_predictions), annot=True, fmt='d', cmap='Blues')\n",
        "plt.xlabel(\"Predicted\")\n",
        "plt.ylabel(\"True\")\n",
        "\n",
        "plt.tight_layout()\n",
        "plt.show()"
      ]
    },
    {
      "cell_type": "markdown",
      "metadata": {
        "id": "lXJXBa8wOoLk"
      },
      "source": [
        "## Step 9: Conclusion\n",
        "\n",
        "Conclusions drawn from the project:\n",
        "- Logistic regression outperforms linear regression in classifying high-quality wines.\n",
        "- The confusion matrices and classification reports highlight the differences in model performance.\n",
        "- The choice of an appropriate model is crucial for the task at hand."
      ]
    },
    {
      "cell_type": "code",
      "execution_count": null,
      "metadata": {
        "colab": {
          "base_uri": "https://localhost:8080/"
        },
        "id": "WPGpoOQhOzzj",
        "outputId": "61d87e43-cde8-49f0-f448-2fc295a10a88"
      },
      "outputs": [],
      "source": [
        "# Conclusion\n",
        "print(\"Linear Model - Mean Squared Error:\", linear_loss)\n",
        "print(\"Logistic Model - Loss:\", logistic_loss)\n",
        "print(\"Logistic Model - Accuracy:\", logistic_accuracy)\n",
        "\n",
        "print(\"\\nClassification Report - Linear Regression:\")\n",
        "print(classification_report(y_test, linear_predictions))\n",
        "\n",
        "print(\"\\nClassification Report - Logistic Regression:\")\n",
        "print(classification_report(y_test, logistic_predictions))"
      ]
    }
  ],
  "metadata": {
    "colab": {
      "provenance": []
    },
    "kernelspec": {
      "display_name": "Python 3",
      "name": "python3"
    },
    "language_info": {
      "name": "python"
    }
  },
  "nbformat": 4,
  "nbformat_minor": 0
}
